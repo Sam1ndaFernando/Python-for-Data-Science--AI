{
 "cells": [
  {
   "cell_type": "code",
   "execution_count": null,
   "metadata": {},
   "outputs": [],
   "source": [
    "class Car:\n",
    "    category = \"motor vehicles\"\n",
    "\n",
    "    def display(self):\n",
    "        print(\"This is a car\")\n",
    "\n",
    "# Create an instance of the Car class\n",
    "new_car = Car()\n",
    "\n",
    "# Call the display method\n",
    "new_car.display()"
   ]
  },
  {
   "cell_type": "code",
   "execution_count": null,
   "metadata": {},
   "outputs": [],
   "source": [
    "class Car:\n",
    "    category = \"motor vehicles\"\n",
    "\n",
    "    def _init_(self, model, colour):\n",
    "        self.model = model\n",
    "        self.colour = colour\n",
    "\n",
    "    def display(self):\n",
    "        print(\"Car Model:\", self.model)\n",
    "        print(\"Car Colour:\", self.colour)\n",
    "\n",
    "    def update(self, model, colour):\n",
    "        self.model = model\n",
    "        self.colour = colour\n",
    "        print(\"Car details updated successfully!\")\n",
    "\n",
    "\n",
    "new_car = Car(\"Toyota\", \"Red\")\n",
    "\n",
    "\n",
    "new_car.display()\n",
    "\n",
    "\n",
    "new_car.update(\"Honda\", \"Blue\")\n",
    "\n",
    "new_car.display()"
   ]
  }
 ],
 "metadata": {
  "language_info": {
   "name": "python"
  }
 },
 "nbformat": 4,
 "nbformat_minor": 2
}
