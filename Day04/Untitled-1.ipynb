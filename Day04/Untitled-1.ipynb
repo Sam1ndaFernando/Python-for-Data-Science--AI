{
 "cells": [
  {
   "cell_type": "code",
   "execution_count": null,
   "metadata": {},
   "outputs": [],
   "source": [
    "class Car:\n",
    "    category = \"motor vehicles\"\n",
    "\n",
    "    def display(self):\n",
    "        print(\"This is a car\")\n",
    "\n",
    "# Create an instance of the Car class\n",
    "new_car = Car()\n",
    "\n",
    "# Call the display method\n",
    "new_car.display()"
   ]
  },
  {
   "cell_type": "code",
   "execution_count": null,
   "metadata": {},
   "outputs": [],
   "source": [
    "class Car:\n",
    "    category = \"motor vehicles\"\n",
    "\n",
    "    def _init_(self, model, colour):\n",
    "        self.model = model\n",
    "        self.colour = colour\n",
    "\n",
    "    def display(self):\n",
    "        print(\"Car Model:\", self.model)\n",
    "        print(\"Car Colour:\", self.colour)\n",
    "\n",
    "    def update(self, model, colour):\n",
    "        self.model = model\n",
    "        self.colour = colour\n",
    "        print(\"Car details updated successfully!\")\n",
    "\n",
    "\n",
    "new_car = Car(\"Toyota\", \"Red\")\n",
    "\n",
    "\n",
    "new_car.display()\n",
    "\n",
    "\n",
    "new_car.update(\"Honda\", \"Blue\")\n",
    "\n",
    "new_car.display()"
   ]
  },
  {
   "cell_type": "code",
   "execution_count": null,
   "metadata": {},
   "outputs": [],
   "source": [
    "class BankAccount:\n",
    "    def _init_(self, name):\n",
    "        self.name = name\n",
    "        self.balance = 0  \n",
    "\n",
    "    def deposit(self, amount):\n",
    "        \"\"\"Adds the specified amount to the account balance.\"\"\"\n",
    "        if amount > 0:\n",
    "            self.balance += amount\n",
    "            print(f\"{amount} deposited successfully.\")\n",
    "        else:\n",
    "            print(\"Invalid deposit amount.\")\n",
    "\n",
    "    def withdraw(self, amount):\n",
    "        \"\"\"Subtracts the specified amount from the account balance if sufficient funds exist.\"\"\"\n",
    "        if amount > 0:\n",
    "            if amount <= self.balance:\n",
    "                self.balance -= amount\n",
    "                print(f\"{amount} withdrawn successfully.\")\n",
    "            else:\n",
    "                print(\"Insufficient balance.\")\n",
    "        else:\n",
    "            print(\"Invalid withdrawal amount.\")\n",
    "\n",
    "    def display_balance(self):\n",
    "        \"\"\"Prints the current account balance.\"\"\"\n",
    "        print(f\"Current balance: {self.balance}\")\n",
    "\n",
    "account = BankAccount(\"John Doe\")\n",
    "\n",
    "account.display_balance()  \n",
    "account.deposit(1000)      \n",
    "account.display_balance()  \n",
    "account.withdraw(500)      \n",
    "account.display_balance()  \n",
    "account.withdraw(600)      "
   ]
  }
 ],
 "metadata": {
  "language_info": {
   "name": "python"
  }
 },
 "nbformat": 4,
 "nbformat_minor": 2
}
