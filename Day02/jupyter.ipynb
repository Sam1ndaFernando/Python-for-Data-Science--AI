{
 "cells": [
  {
   "cell_type": "code",
   "execution_count": 29,
   "metadata": {},
   "outputs": [
    {
     "name": "stdout",
     "output_type": "stream",
     "text": [
      "[20, 35, 'Dog', 'True']\n",
      "[20, 15, 'Dog', 'True']\n"
     ]
    }
   ],
   "source": [
    "my_list = [20,15,\"Dog\",\"True\"]\n",
    "my_list_2 = my_list.copy()\n",
    "my_list[1] = 35\n",
    "print(my_list)\n",
    "print(my_list_2)\n"
   ]
  },
  {
   "cell_type": "code",
   "execution_count": 30,
   "metadata": {},
   "outputs": [
    {
     "name": "stdout",
     "output_type": "stream",
     "text": [
      "rat\n"
     ]
    }
   ],
   "source": [
    "my_tuples = (\"dog\", \"cat\", 10)\n",
    "my_tuples = (my_tuples[0], \"rat\", my_tuples[2])\n",
    "print(my_tuples[1])\n"
   ]
  },
  {
   "cell_type": "code",
   "execution_count": 31,
   "metadata": {},
   "outputs": [
    {
     "name": "stdout",
     "output_type": "stream",
     "text": [
      "('a', 'Rat', 'c') <class 'tuple'>\n"
     ]
    }
   ],
   "source": [
    "my_tuples1 = (\"a\", \"b\", \"c\",)\n",
    "my_tuples2 = list(my_tuples1)\n",
    "my_tuples2[1]=\"Rat\"\n",
    "my_tuples1=tuple(my_tuples2)\n",
    "print(my_tuples1, type(my_tuples1))"
   ]
  },
  {
   "cell_type": "code",
   "execution_count": 32,
   "metadata": {},
   "outputs": [
    {
     "name": "stdout",
     "output_type": "stream",
     "text": [
      "[-1, 5, 5, 8, 9, 10, 20]\n"
     ]
    }
   ],
   "source": [
    "my_tuples01 = (10, 8, 20, 5)\n",
    "my_tuples02 = (5, 9, -1)\n",
    "combined_list = list(my_tuples01) + list(my_tuples02)\n",
    "combined_list.sort()\n",
    "print(combined_list)\n"
   ]
  },
  {
   "cell_type": "code",
   "execution_count": 33,
   "metadata": {},
   "outputs": [
    {
     "name": "stdout",
     "output_type": "stream",
     "text": [
      "(10, 'rat', True)\n"
     ]
    }
   ],
   "source": [
    "my_tuples = ((1, 10, 8), (\"dog\", \"cat\", \"rat\"), (True, False))\n",
    "value = (my_tuples[0][1], my_tuples[1][2], my_tuples[2][0])\n",
    "print(value)\n"
   ]
  },
  {
   "cell_type": "code",
   "execution_count": 34,
   "metadata": {},
   "outputs": [
    {
     "name": "stdout",
     "output_type": "stream",
     "text": [
      "range(2, 15, 3) <class 'range'>\n"
     ]
    }
   ],
   "source": [
    "# range =(value1, value2, value3)\n",
    "s1 = range(2, 15, 3)\n",
    "print(s1, type(s1))\n",
    "\n"
   ]
  },
  {
   "cell_type": "code",
   "execution_count": 35,
   "metadata": {},
   "outputs": [
    {
     "name": "stdout",
     "output_type": "stream",
     "text": [
      "{'Alice': 85, 'Bob': 92, 'Charlie': 78, 'Diana': 90} <class 'dict'>\n"
     ]
    }
   ],
   "source": [
    "grades = {\n",
    "    \"Alice\": 85,\n",
    "    \"Bob\": 92,\n",
    "    \"Charlie\": 78,\n",
    "    \"Diana\": 90\n",
    "}\n",
    "print(grades, type(grades))\n"
   ]
  },
  {
   "cell_type": "code",
   "execution_count": 36,
   "metadata": {},
   "outputs": [
    {
     "name": "stdout",
     "output_type": "stream",
     "text": [
      "Length of grades dictionary: 4\n"
     ]
    }
   ],
   "source": [
    "grades = {\n",
    "    \"Alice\": 85,\n",
    "    \"Bob\": 92,\n",
    "    \"Charlie\": 78,\n",
    "    \"Diana\": 90\n",
    "\n",
    "}\n",
    "print(\"Length of grades dictionary:\", len(grades))\n"
   ]
  },
  {
   "cell_type": "code",
   "execution_count": 37,
   "metadata": {},
   "outputs": [
    {
     "name": "stdout",
     "output_type": "stream",
     "text": [
      "85\n"
     ]
    }
   ],
   "source": [
    "grades = {\n",
    "    \"Alice\": 85,\n",
    "    \"Bob\": 92,\n",
    "    \"Charlie\": 78,\n",
    "    \"Diana\": 90,\n",
    "    \"student grade\": [2, 3, 5, 10, 10]\n",
    "}\n",
    "\n",
    "# print(grades)\n",
    "print(grades[\"Alice\"])\n"
   ]
  },
  {
   "cell_type": "code",
   "execution_count": 38,
   "metadata": {},
   "outputs": [
    {
     "name": "stdout",
     "output_type": "stream",
     "text": [
      "{'Alice': 88, 'Bob': 95, 'Charlie': 20, 'Diana': 30, 'Eve': 91}\n"
     ]
    }
   ],
   "source": [
    "grades = {\n",
    "    \"Alice\": 10,\n",
    "    \"Bob\": 5,\n",
    "    \"Charlie\": 20,\n",
    "    \"Diana\": 30\n",
    "}\n",
    "\n",
    "grades.update({\"Alice\": 88, \"Bob\": 95, \"Eve\": 91})\n",
    "\n",
    "print(grades)\n"
   ]
  },
  {
   "cell_type": "code",
   "execution_count": 39,
   "metadata": {},
   "outputs": [
    {
     "name": "stdout",
     "output_type": "stream",
     "text": [
      "dict01: {'name': 'Alice', 'weight': 'kg', 'value': 200.75}\n",
      "dict02: {'name': 'Alice', 'weight': 'kg', 'value': 120.25}\n"
     ]
    }
   ],
   "source": [
    "dict01 = {\"name\": \"Alice\", \"weight\": \"kg\", \"value\": 120.25}\n",
    "\n",
    "dict02 = dict01.copy()\n",
    "\n",
    "dict01[\"value\"] = 200.75\n",
    "\n",
    "print(\"dict01:\", dict01)\n",
    "print(\"dict02:\", dict02)\n"
   ]
  },
  {
   "cell_type": "code",
   "execution_count": 40,
   "metadata": {},
   "outputs": [
    {
     "name": "stdout",
     "output_type": "stream",
     "text": [
      "dict_keys(['name', 'weight', 'value'])\n"
     ]
    }
   ],
   "source": [
    "dict01 = {\"name\": \"Alice\", \"weight\": \"kg\", \"value\": 120.25}\n",
    "\n",
    "print(dict01.keys())\n"
   ]
  }
 ],
 "metadata": {
  "kernelspec": {
   "display_name": "Python 3",
   "language": "python",
   "name": "python3"
  },
  "language_info": {
   "codemirror_mode": {
    "name": "ipython",
    "version": 3
   },
   "file_extension": ".py",
   "mimetype": "text/x-python",
   "name": "python",
   "nbconvert_exporter": "python",
   "pygments_lexer": "ipython3",
   "version": "3.13.0"
  }
 },
 "nbformat": 4,
 "nbformat_minor": 2
}
