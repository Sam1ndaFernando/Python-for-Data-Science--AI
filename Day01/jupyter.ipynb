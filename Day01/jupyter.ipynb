{
 "cells": [
  {
   "cell_type": "code",
   "execution_count": 13,
   "metadata": {},
   "outputs": [
    {
     "name": "stdout",
     "output_type": "stream",
     "text": [
      "hello\n"
     ]
    }
   ],
   "source": [
    "print(\"hello\")"
   ]
  },
  {
   "cell_type": "code",
   "execution_count": 14,
   "metadata": {},
   "outputs": [
    {
     "name": "stdout",
     "output_type": "stream",
     "text": [
      "200\n",
      "The type of variable having value 200 is <class 'int'>\n"
     ]
    }
   ],
   "source": [
    "# variable types chek  #\n",
    "a = 200\n",
    "print(a)\n",
    "print(\"The type of variable having value\",a,\"is\",type(a))"
   ]
  },
  {
   "cell_type": "code",
   "execution_count": 15,
   "metadata": {},
   "outputs": [
    {
     "name": "stdout",
     "output_type": "stream",
     "text": [
      "(100+5j)\n",
      "The type of variable having value (100+5j) is <class 'complex'>\n"
     ]
    }
   ],
   "source": [
    "c= 100+5j\n",
    "print(c)\n",
    "print(\"The type of variable having value\",c,\"is\",type(c))"
   ]
  },
  {
   "cell_type": "code",
   "execution_count": 16,
   "metadata": {},
   "outputs": [
    {
     "name": "stdout",
     "output_type": "stream",
     "text": [
      "25000.0\n",
      "The type of variable having value 25000.0 is <class 'float'>\n"
     ]
    }
   ],
   "source": [
    "num_1 = 2.5e4\n",
    "print(num_1)\n",
    "print(\"The type of variable having value\",num_1,\"is\",type(num_1))\n"
   ]
  },
  {
   "cell_type": "code",
   "execution_count": 17,
   "metadata": {},
   "outputs": [
    {
     "name": "stdout",
     "output_type": "stream",
     "text": [
      "7.4 <class 'float'>\n"
     ]
    }
   ],
   "source": [
    "# casting#\n",
    "num_1 = 5\n",
    "num_2 = 12.4\n",
    "a = float(num_2-num_1)  #casting \n",
    "print(a,type(a))"
   ]
  },
  {
   "cell_type": "code",
   "execution_count": 18,
   "metadata": {},
   "outputs": [
    {
     "name": "stdout",
     "output_type": "stream",
     "text": [
      "12 <class 'int'>\n"
     ]
    }
   ],
   "source": [
    "num_2 = 12.4\n",
    "b = int(num_2)\n",
    "print(b,type(b))"
   ]
  },
  {
   "cell_type": "code",
   "execution_count": 19,
   "metadata": {},
   "outputs": [
    {
     "name": "stdout",
     "output_type": "stream",
     "text": [
      "<class 'list'>\n",
      "[1, 10, 15, 18]\n",
      "1\n"
     ]
    }
   ],
   "source": [
    "#python collectio four major data type \n",
    "#List,Tuple,Set,Dictionary\n",
    "#Python List \n",
    "my_list = [1,10,15,18]\n",
    "print(type(my_list))\n",
    "print(my_list)\n",
    "print(my_list[0])"
   ]
  },
  {
   "cell_type": "code",
   "execution_count": 20,
   "metadata": {},
   "outputs": [
    {
     "name": "stdout",
     "output_type": "stream",
     "text": [
      "[1, 10, 45, 18]\n"
     ]
    }
   ],
   "source": [
    "#changing 2nd index value \n",
    "my_list = [1,10,15,18]\n",
    "my_list[2]=45\n",
    "print(my_list)"
   ]
  },
  {
   "cell_type": "code",
   "execution_count": 21,
   "metadata": {},
   "outputs": [
    {
     "name": "stdout",
     "output_type": "stream",
     "text": [
      "[1, 10, 10, 'eat', 8, True] <class 'list'> 6\n"
     ]
    }
   ],
   "source": [
    "my_list =[1,10,10,\"eat\",8,True]\n",
    "print(my_list,type(my_list),len(my_list))"
   ]
  },
  {
   "cell_type": "code",
   "execution_count": 22,
   "metadata": {},
   "outputs": [
    {
     "name": "stdout",
     "output_type": "stream",
     "text": [
      "True\n"
     ]
    }
   ],
   "source": [
    "#\n",
    "my_list =[1,10,10,\"eat\",8,True]\n",
    "print(my_list[-1])"
   ]
  },
  {
   "cell_type": "code",
   "execution_count": 23,
   "metadata": {},
   "outputs": [
    {
     "name": "stdout",
     "output_type": "stream",
     "text": [
      "[10, 10, 'eat']\n"
     ]
    }
   ],
   "source": [
    "#sub indexing\n",
    "my_list =[1,10,10,\"eat\",8,True]\n",
    "print(my_list[1:4])#methan apita subset krana awashya index ekata ekak wadiyen deveni value eka dan naona.nattan apita awashya eka enne na.ekata ekak aduwen enne"
   ]
  },
  {
   "cell_type": "code",
   "execution_count": 24,
   "metadata": {},
   "outputs": [
    {
     "name": "stdout",
     "output_type": "stream",
     "text": [
      "[1, 10, 10]\n"
     ]
    }
   ],
   "source": [
    "my_list =[1,10,10,\"eat\",8,True]\n",
    "print(my_list[:3]) #api mul index eka 0 nisa eka danne na me widiyata thamaiapi o index ekai anith index ewai subset kraddi ganne"
   ]
  },
  {
   "cell_type": "code",
   "execution_count": 25,
   "metadata": {},
   "outputs": [
    {
     "name": "stdout",
     "output_type": "stream",
     "text": [
      "['eat', 8, True]\n"
     ]
    }
   ],
   "source": [
    "my_list =[1,10,10,\"eat\",8,True]\n",
    "print(my_list[3:])#methana wenne apita sub set kran ona eka index ekaka idan lsit eke last index eka wenakm nm apita mehema subset kranna puluwan"
   ]
  },
  {
   "cell_type": "code",
   "execution_count": 26,
   "metadata": {},
   "outputs": [
    {
     "name": "stdout",
     "output_type": "stream",
     "text": [
      "[1, 10, 'dog', 19.0, 8, True]\n"
     ]
    }
   ],
   "source": [
    "#Quection(2 & 3 indexes includes dog & 19.0)\n",
    "my_list =[1,10,10,\"eat\",8,True]\n",
    "my_list[2:4] = \"dog\",19.0\n",
    "print(my_list)"
   ]
  },
  {
   "cell_type": "code",
   "execution_count": 27,
   "metadata": {},
   "outputs": [
    {
     "name": "stdout",
     "output_type": "stream",
     "text": [
      "[1, 10, 10, 'rabbit', 'eat', 8, True] 7\n"
     ]
    }
   ],
   "source": [
    "#insert\n",
    "my_list =[1,10,10,\"eat\",8,True]\n",
    "my_list.insert(3,\"rabbit\")\n",
    "print(my_list,len(my_list))"
   ]
  },
  {
   "cell_type": "code",
   "execution_count": 28,
   "metadata": {},
   "outputs": [
    {
     "name": "stdout",
     "output_type": "stream",
     "text": [
      "[1, 10, 10, 'eat', 8, True, 'car'] 7\n"
     ]
    }
   ],
   "source": [
    "#append(incluede new index in array end)\n",
    "my_list =[1,10,10,\"eat\",8,True]\n",
    "my_list.append(\"car\")\n",
    "print(my_list,len(my_list))"
   ]
  },
  {
   "cell_type": "code",
   "execution_count": 29,
   "metadata": {},
   "outputs": [
    {
     "name": "stdout",
     "output_type": "stream",
     "text": [
      "[1, 10, 10, 'eat', 8, True, 24, '10', 10, 'Beat', 'BUs', False]\n"
     ]
    }
   ],
   "source": [
    "#extend lits\n",
    "my_list =[1,10,10,\"eat\",8,True]\n",
    "new_list =[24,\"10\",10,\"Beat\",\"BUs\",False]\n",
    "my_list.extend(new_list)\n",
    "print(my_list)"
   ]
  },
  {
   "cell_type": "code",
   "execution_count": 30,
   "metadata": {},
   "outputs": [
    {
     "name": "stdout",
     "output_type": "stream",
     "text": [
      "[1, 10, 10, 'eat', True]\n"
     ]
    }
   ],
   "source": [
    "#remove index\n",
    "my_list =[1,10,10,\"eat\",8,True]\n",
    "my_list.pop(4)\n",
    "print(my_list)"
   ]
  },
  {
   "cell_type": "code",
   "execution_count": 31,
   "metadata": {},
   "outputs": [
    {
     "name": "stdout",
     "output_type": "stream",
     "text": [
      "[1, 10, 10, 8, True]\n"
     ]
    }
   ],
   "source": [
    "#remove value\n",
    "my_list =[1,10,10,\"eat\",8,True]\n",
    "my_list.remove(\"eat\")\n",
    "print(my_list)"
   ]
  },
  {
   "cell_type": "code",
   "execution_count": 32,
   "metadata": {},
   "outputs": [],
   "source": [
    "#delete list \n",
    "my_list =[1,10,10,\"eat\",8,True]\n",
    "del my_list\n"
   ]
  },
  {
   "cell_type": "code",
   "execution_count": 33,
   "metadata": {},
   "outputs": [
    {
     "name": "stdout",
     "output_type": "stream",
     "text": [
      "0 []\n"
     ]
    }
   ],
   "source": [
    "#Clear(all indexes are removed)\n",
    "my_list =[1,10,10,\"eat\",8,True]\n",
    "my_list.clear()\n",
    "print(len(my_list),my_list)"
   ]
  },
  {
   "cell_type": "code",
   "execution_count": 34,
   "metadata": {},
   "outputs": [
    {
     "name": "stdout",
     "output_type": "stream",
     "text": [
      "['apple', 'banana', 'beans', 'rice']\n"
     ]
    }
   ],
   "source": [
    "#sort array(by default sort)\n",
    "my_list = [\"banana\",\"apple\",\"beans\",\"rice\"]\n",
    "my_list.sort()\n",
    "print(my_list)"
   ]
  },
  {
   "cell_type": "code",
   "execution_count": 35,
   "metadata": {},
   "outputs": [
    {
     "name": "stdout",
     "output_type": "stream",
     "text": [
      "['Beans', 'apple', 'banana', 'rice']\n"
     ]
    }
   ],
   "source": [
    "#Case sensitive sort\n",
    "#capital letters include value.this value is priority. capital lettr include word in any placecs.this word priority.\n",
    "my_list = [\"banana\",\"apple\",\"Beans\",\"rice\"]\n",
    "my_list.sort()\n",
    "print(my_list)"
   ]
  },
  {
   "cell_type": "code",
   "execution_count": 36,
   "metadata": {},
   "outputs": [
    {
     "name": "stdout",
     "output_type": "stream",
     "text": [
      "['apple', 'banana', 'Beans', 'dog', 'rice']\n"
     ]
    }
   ],
   "source": [
    "#Case insensitive sort(accendin)\n",
    "my_list = [\"dog\",\"banana\",\"apple\",\"Beans\",\"rice\"] \n",
    "my_list.sort(key=str.lower)\n",
    "print(my_list)"
   ]
  },
  {
   "cell_type": "code",
   "execution_count": 37,
   "metadata": {},
   "outputs": [
    {
     "name": "stdout",
     "output_type": "stream",
     "text": [
      "['rice', 'dog', 'banana', 'apple', 'Beans']\n"
     ]
    }
   ],
   "source": [
    "#Case insensitive sort(deccending)\n",
    "my_list = [\"dog\",\"banana\",\"apple\",\"Beans\",\"rice\"] \n",
    "my_list.sort(reverse=True)\n",
    "print(my_list)"
   ]
  },
  {
   "cell_type": "code",
   "execution_count": 38,
   "metadata": {},
   "outputs": [
    {
     "name": "stdout",
     "output_type": "stream",
     "text": [
      "['rice', 'Beans', 'apple', 'banana', 'dog']\n"
     ]
    }
   ],
   "source": [
    "#change array order(not accending or diccending)\n",
    "my_list = [\"dog\",\"banana\",\"apple\",\"Beans\",\"rice\"] \n",
    "my_list.reverse()\n",
    "print(my_list)"
   ]
  },
  {
   "cell_type": "code",
   "execution_count": 39,
   "metadata": {},
   "outputs": [
    {
     "name": "stdout",
     "output_type": "stream",
     "text": [
      "Extended list: [-10, -18, 12, 5, 7, 12, -3, 8, 4, -3, 9, 2, 11]\n",
      "Sorted list: [-18, -10, -3, -3, 2, 4, 5, 7, 8, 9, 11, 12, 12]\n",
      "Median: 5\n",
      "Q1: -3.0\n",
      "Q3: 10.0\n"
     ]
    }
   ],
   "source": [
    "my_list1 = [-10,-18,12,5,7,12,-3]\n",
    "my_list2 = [8,4,-3,9,2,11]\n",
    "my_list1.extend(my_list2)\n",
    "print(\"Extended list:\", my_list1)\n",
    "\n",
    "my_list1.sort()\n",
    "print(\"Sorted list:\", my_list1)\n",
    "\n",
    "# Find the median\n",
    "list_length = len(my_list1)\n",
    "if list_length % 2 == 0:\n",
    "    median = (my_list1[list_length//2 - 1] + my_list1[list_length//2]) / 2\n",
    "else:\n",
    "    median = my_list1[list_length // 2]\n",
    "print(\"Median:\", median)\n",
    "\n",
    "# Split the data into two halves\n",
    "list_Q1 = my_list1[:list_length // 2]\n",
    "list_Q3 = my_list1[(list_length + 1) // 2:]\n",
    "\n",
    "# Calculate Q1 (Median of the first half)\n",
    "list_Q1_length = len(list_Q1)\n",
    "if list_Q1_length % 2 == 0:\n",
    "    q1 = (list_Q1[list_Q1_length // 2 - 1] + list_Q1[list_Q1_length // 2]) / 2\n",
    "else:\n",
    "    q1 = list_Q1[list_Q1_length // 2]\n",
    "print(\"Q1:\", q1)\n",
    "\n",
    "# Calculate Q3 (Median of the second half)\n",
    "list_Q3_length = len(list_Q3)\n",
    "if list_Q3_length % 2 == 0:\n",
    "    q3 = (list_Q3[list_Q3_length // 2 - 1] + list_Q3[list_Q3_length // 2]) / 2\n",
    "else:\n",
    "    q3 = list_Q3[list_Q3_length // 2]\n",
    "print(\"Q3:\", q3)\n"
   ]
  }
 ],
 "metadata": {
  "kernelspec": {
   "display_name": "Python 3",
   "language": "python",
   "name": "python3"
  },
  "language_info": {
   "codemirror_mode": {
    "name": "ipython",
    "version": 3
   },
   "file_extension": ".py",
   "mimetype": "text/x-python",
   "name": "python",
   "nbconvert_exporter": "python",
   "pygments_lexer": "ipython3",
   "version": "3.13.0"
  }
 },
 "nbformat": 4,
 "nbformat_minor": 2
}
