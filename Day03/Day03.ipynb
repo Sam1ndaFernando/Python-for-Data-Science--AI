{
 "cells": [
  {
   "cell_type": "code",
   "execution_count": 4,
   "metadata": {},
   "outputs": [
    {
     "name": "stdout",
     "output_type": "stream",
     "text": [
      "Student Name: Saami\n",
      "Marks: (85, 78, 92, 88, 76)\n",
      "Marks: 419\n",
      "Marks: 76\n",
      "Marks: 92\n"
     ]
    }
   ],
   "source": [
    "def student_exams(stdname, *marks):\n",
    "    print(\"Student Name:\", stdname)\n",
    "    \n",
    "    print(\"Marks:\", marks)\n",
    "    \n",
    "    total_marks = sum(marks)\n",
    "    minimum_marks = min(marks)\n",
    "    maximum_marks = max(marks)\n",
    "    \n",
    "    print(\"Marks:\", total_marks)\n",
    "    print(\"Marks:\", minimum_marks)\n",
    "    print(\"Marks:\", maximum_marks)\n",
    "\n",
    "student_exams(\"Saami\", 85, 78, 92, 88, 76)\n"
   ]
  },
  {
   "cell_type": "markdown",
   "metadata": {},
   "source": [
    "\n"
   ]
  },
  {
   "cell_type": "code",
   "execution_count": 5,
   "metadata": {},
   "outputs": [
    {
     "name": "stdout",
     "output_type": "stream",
     "text": [
      "name: Saami\n",
      "age: 25\n",
      "city: panadura\n"
     ]
    }
   ],
   "source": [
    "# arbitary keyword arguments (**kwargs)\n",
    "# this is keyword argument\n",
    "# this keywords arguments entry to [puntion dictionary entry]\n",
    "def greet(**kwargs):\n",
    "    for key, value in kwargs.items():\n",
    "        print(f\"{key}: {value}\")\n",
    "\n",
    "greet(name=\"Saami\", age=25, city=\"panadura\")\n"
   ]
  },
  {
   "cell_type": "code",
   "execution_count": 7,
   "metadata": {},
   "outputs": [
    {
     "name": "stdout",
     "output_type": "stream",
     "text": [
      "Employee Name: Saminda \n",
      "age value: 22\n",
      "department value: QA\n",
      "position value: CEO\n",
      "{'name': 'Saminda ', 'age': 22, 'department': 'QA', 'position': 'CEO'}\n"
     ]
    }
   ],
   "source": [
    "#  employee managment system write a python funtion employee_info that accepted requaird name parameter and arbinary number of keywords argiveements about the employee.   the funtion should print the employe name iterate thoue the keyword argivemnts and print each key value thair in the format  key ValueError\n",
    "\n",
    "# return a dictinary get all the employee details \n",
    "\n",
    "def employee_info(name, **kwargs):\n",
    "    print(f\"Employee Name: {name}\")\n",
    "    \n",
    "    for key, value in kwargs.items():\n",
    "        print(f\"{key} value: {value}\")\n",
    "    \n",
    "    return {\"name\": name, **kwargs}\n",
    "\n",
    "employee_details = employee_info(\"Saminda \", age=22, department=\"QA\", position=\"CEO\")\n",
    "print(employee_details)\n",
    "\n",
    "\n"
   ]
  }
 ],
 "metadata": {
  "kernelspec": {
   "display_name": "Python 3",
   "language": "python",
   "name": "python3"
  },
  "language_info": {
   "codemirror_mode": {
    "name": "ipython",
    "version": 3
   },
   "file_extension": ".py",
   "mimetype": "text/x-python",
   "name": "python",
   "nbconvert_exporter": "python",
   "pygments_lexer": "ipython3",
   "version": "3.13.0"
  }
 },
 "nbformat": 4,
 "nbformat_minor": 2
}
