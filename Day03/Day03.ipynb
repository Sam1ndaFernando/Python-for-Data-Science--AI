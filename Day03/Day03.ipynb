{
 "cells": [
  {
   "cell_type": "code",
   "execution_count": 54,
   "metadata": {},
   "outputs": [
    {
     "name": "stdout",
     "output_type": "stream",
     "text": [
      "Student Name: Saami\n",
      "Marks: (85, 78, 92, 88, 76)\n",
      "Marks: 419\n",
      "Marks: 76\n",
      "Marks: 92\n"
     ]
    }
   ],
   "source": [
    "def student_exams(stdname, *marks):\n",
    "    print(\"Student Name:\", stdname)\n",
    "    \n",
    "    print(\"Marks:\", marks)\n",
    "    \n",
    "    total_marks = sum(marks)\n",
    "    minimum_marks = min(marks)\n",
    "    maximum_marks = max(marks)\n",
    "    \n",
    "    print(\"Marks:\", total_marks)\n",
    "    print(\"Marks:\", minimum_marks)\n",
    "    print(\"Marks:\", maximum_marks)\n",
    "\n",
    "student_exams(\"Saami\", 85, 78, 92, 88, 76)\n"
   ]
  },
  {
   "cell_type": "markdown",
   "metadata": {},
   "source": [
    "\n"
   ]
  },
  {
   "cell_type": "code",
   "execution_count": 55,
   "metadata": {},
   "outputs": [
    {
     "name": "stdout",
     "output_type": "stream",
     "text": [
      "name: Saami\n",
      "age: 25\n",
      "city: panadura\n"
     ]
    }
   ],
   "source": [
    "# arbitary keyword arguments (**kwargs)\n",
    "# this is keyword argument\n",
    "# this keywords arguments entry to [puntion dictionary entry]\n",
    "def greet(**kwargs):\n",
    "    for key, value in kwargs.items():\n",
    "        print(f\"{key}: {value}\")\n",
    "\n",
    "greet(name=\"Saami\", age=25, city=\"panadura\")\n"
   ]
  },
  {
   "cell_type": "code",
   "execution_count": 56,
   "metadata": {},
   "outputs": [
    {
     "name": "stdout",
     "output_type": "stream",
     "text": [
      "Employee Name: Saminda \n",
      "age value: 22\n",
      "department value: QA\n",
      "position value: CEO\n",
      "{'name': 'Saminda ', 'age': 22, 'department': 'QA', 'position': 'CEO'}\n"
     ]
    }
   ],
   "source": [
    "#  employee managment system write a python funtion employee_info that accepted requaird name parameter and arbinary number of keywords argiveements about the employee.   the funtion should print the employe name iterate thoue the keyword argivemnts and print each key value thair in the format  key ValueError\n",
    "# return a dictinary get all the employee details \n",
    "\n",
    "def employee_info(name, **kwargs):\n",
    "    print(f\"Employee Name: {name}\")\n",
    "    \n",
    "    for key, value in kwargs.items():\n",
    "        print(f\"{key} value: {value}\")\n",
    "    \n",
    "    return {\"name\": name, **kwargs}\n",
    "\n",
    "employee_details = employee_info(\"Saminda \", age=22, department=\"QA\", position=\"CEO\")\n",
    "print(employee_details)\n",
    "\n",
    "\n",
    "\n"
   ]
  },
  {
   "cell_type": "code",
   "execution_count": 57,
   "metadata": {},
   "outputs": [
    {
     "name": "stdout",
     "output_type": "stream",
     "text": [
      "The absolute value of 432.0 is: 432.0\n"
     ]
    }
   ],
   "source": [
    "def print_absolute_value(number):\n",
    "    absolute_value = abs(number)  \n",
    "    print(f\"The absolute value of {number} is: {absolute_value}\")\n",
    "\n",
    "number = float(input(\"Enter a number: \"))  \n",
    "print_absolute_value(number)\n"
   ]
  },
  {
   "cell_type": "code",
   "execution_count": 58,
   "metadata": {},
   "outputs": [
    {
     "name": "stdout",
     "output_type": "stream",
     "text": [
      "[4, 9, 16, 25, 36, 49, 64, 81, 100] <class 'list'>\n"
     ]
    }
   ],
   "source": [
    "\n",
    "\n",
    "my_list = [2, 3, 4, 5, 6, 7, 8, 9, 10]\n",
    "\n",
    "result = map(find_list, my_list)\n",
    "\n",
    "result_list = list(result)\n",
    "\n",
    "print(result_list, type(result_list))\n",
    "\n"
   ]
  },
  {
   "cell_type": "code",
   "execution_count": 65,
   "metadata": {},
   "outputs": [
    {
     "name": "stdout",
     "output_type": "stream",
     "text": [
      "[1, 4, 9, 16, 25, 36, 49]\n"
     ]
    }
   ],
   "source": [
    "my_list1 = [1, 2, 3, 4, 5, 6, 7]\n",
    "my_list2 = [8, 9, 10, 11, 12, 13, 14]\n",
    "\n",
    "def square(x):\n",
    "    return x ** 2\n",
    "\n",
    "squared_numbers1 = map(square, my_list1)\n",
    "\n",
    "squared_numbers1_list = list(squared_numbers1)\n",
    "\n",
    "\n",
    "print(squared_numbers1_list)\n"
   ]
  },
  {
   "cell_type": "code",
   "execution_count": 70,
   "metadata": {},
   "outputs": [
    {
     "name": "stdout",
     "output_type": "stream",
     "text": [
      "In Fahrenheit: [68.0, 86.0, 77.0, 104.0, 122.0]\n"
     ]
    }
   ],
   "source": [
    "# Celsius to Fahrenheit Formula: Defined the function celsius_to_fahrenheit(celsius) that applies the formula.\n",
    "# map Function: Applied the conversion function to all elements in the temp list.\n",
    "# Convert to List: The map result is converted to a list using list() for better readability and usage.\n",
    "\n",
    "temp = [20, 30, 25, 40, 50]\n",
    "def celsius_to_fahrenheit(celsius):\n",
    "    return celsius * 9 / 5 + 32\n",
    "\n",
    "fahrenheit_temps = map(celsius_to_fahrenheit, temp)\n",
    "fahrenheit_temps_list = list(fahrenheit_temps)\n",
    "print(\"In Fahrenheit:\", fahrenheit_temps_list)\n"
   ]
  }
 ],
 "metadata": {
  "kernelspec": {
   "display_name": "Python 3",
   "language": "python",
   "name": "python3"
  },
  "language_info": {
   "codemirror_mode": {
    "name": "ipython",
    "version": 3
   },
   "file_extension": ".py",
   "mimetype": "text/x-python",
   "name": "python",
   "nbconvert_exporter": "python",
   "pygments_lexer": "ipython3",
   "version": "3.13.0"
  }
 },
 "nbformat": 4,
 "nbformat_minor": 2
}
